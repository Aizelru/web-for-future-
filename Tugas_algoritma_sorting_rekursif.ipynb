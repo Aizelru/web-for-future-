{
  "nbformat": 4,
  "nbformat_minor": 0,
  "metadata": {
    "colab": {
      "provenance": [],
      "authorship_tag": "ABX9TyMfl9vv2dfNNU0x2q/YFqzX",
      "include_colab_link": true
    },
    "kernelspec": {
      "name": "python3",
      "display_name": "Python 3"
    },
    "language_info": {
      "name": "python"
    }
  },
  "cells": [
    {
      "cell_type": "markdown",
      "metadata": {
        "id": "view-in-github",
        "colab_type": "text"
      },
      "source": [
        "<a href=\"https://colab.research.google.com/github/Aizelru/web-for-future-/blob/main/Tugas_algoritma_sorting_rekursif.ipynb\" target=\"_parent\"><img src=\"https://colab.research.google.com/assets/colab-badge.svg\" alt=\"Open In Colab\"/></a>"
      ]
    },
    {
      "cell_type": "code",
      "execution_count": 3,
      "metadata": {
        "colab": {
          "base_uri": "https://localhost:8080/"
        },
        "id": "K5aycn359eHX",
        "outputId": "8e89a00b-432e-49f7-ff50-2dbf84c3dac9"
      },
      "outputs": [
        {
          "output_type": "stream",
          "name": "stdout",
          "text": [
            "Mau input berapa angka? 3\n",
            "Masukkan angka ke-1: 3\n",
            "Masukkan angka ke-2: 4\n",
            "Masukkan angka ke-3: 0\n",
            "Urutan angka setelah sorting: [0, 3, 4]\n",
            "Angka terbesar (rekursif): 4\n"
          ]
        }
      ],
      "source": [
        "# 1. Algoritma biasa untuk input angka\n",
        "n = int(input(\"Mau input berapa angka? \"))\n",
        "daftar_angka = []\n",
        "\n",
        "for i in range(n):\n",
        "    angka = int(input(f\"Masukkan angka ke-{i+1}: \"))\n",
        "    daftar_angka.append(angka)\n",
        "\n",
        "# 2. Sorting angka\n",
        "daftar_angka.sort()\n",
        "print(\"Urutan angka setelah sorting:\", daftar_angka)\n",
        "\n",
        "# 3. Rekursif untuk cari angka terbesar\n",
        "def cari_terbesar(data):\n",
        "    if len(data) == 1:\n",
        "        return data[0]\n",
        "    else:\n",
        "        if data[0] > data[1]:\n",
        "            return cari_terbesar([data[0]] + data[2:])\n",
        "        else:\n",
        "            return cari_terbesar(data[1:])\n",
        "\n",
        "terbesar = cari_terbesar(daftar_angka)\n",
        "print(\"Angka terbesar (rekursif):\", terbesar)"
      ]
    }
  ]
}